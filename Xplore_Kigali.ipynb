{
  "cells": [
    {
      "cell_type": "markdown",
      "metadata": {
        "id": "view-in-github"
      },
      "source": [
        "<a href=\"https://colab.research.google.com/github/JasonManesis/Vehicle-Navigation-Shortest-Path/blob/main/Vehicle_Navigation_Shortest_Path.ipynb\" target=\"_parent\"><img src=\"https://colab.research.google.com/assets/colab-badge.svg\" alt=\"Open In Colab\"/></a>"
      ]
    },
    {
      "cell_type": "code",
      "source": [
        "\"\"\"\n",
        ".....................................................SOLUTION SUBMISSION...............................................................\n",
        "\n",
        "The type of project we worked on for our summative is that we have created our own smaller and simpler version of mapping platform\n",
        "(similar with Google maps), which is targeted for international students (even locals) in Kigali ,primarily at ALU to help them navigate the \n",
        "short pathes from source (a specific starting point) to destination (to the place they want to go).\n",
        "\n",
        " \"\"\""
      ],
      "metadata": {
        "id": "6y1v5wL5CtFN",
        "colab": {
          "base_uri": "https://localhost:8080/",
          "height": 87
        },
        "outputId": "50f29255-b8de-4e66-b3bd-3f0e65a6f5bd"
      },
      "execution_count": 1,
      "outputs": [
        {
          "output_type": "execute_result",
          "data": {
            "text/plain": [
              "'\\n.....................................................SOLUTION SUBMISSION...............................................................\\n\\nThe type of project we worked on for our summative is that we have created our own smaller and simpler version of mapping platform\\n(similar with Google maps), which is targeted for international students (even locals) in Kigali ,primarily at ALU to help them navigate the \\nshort pathes from source (a specific starting point) to destination (to the place they want to go).\\n\\n '"
            ],
            "application/vnd.google.colaboratory.intrinsic+json": {
              "type": "string"
            }
          },
          "metadata": {},
          "execution_count": 1
        }
      ]
    },
    {
      "cell_type": "code",
      "execution_count": 2,
      "metadata": {
        "id": "-qsGXlxaBi60",
        "outputId": "46718d26-b403-4209-dcd0-4af4b0a2d831",
        "colab": {
          "base_uri": "https://localhost:8080/",
          "height": 1000
        }
      },
      "outputs": [
        {
          "output_type": "stream",
          "name": "stdout",
          "text": [
            "Collecting osmnx==0.16.2\n",
            "  Downloading osmnx-0.16.2-py2.py3-none-any.whl (87 kB)\n",
            "\u001b[K     |████████████████████████████████| 87 kB 4.9 MB/s \n",
            "\u001b[?25hCollecting requests>=2.24\n",
            "  Downloading requests-2.27.1-py2.py3-none-any.whl (63 kB)\n",
            "\u001b[K     |████████████████████████████████| 63 kB 1.8 MB/s \n",
            "\u001b[?25hCollecting Rtree>=0.9\n",
            "  Downloading Rtree-1.0.0-cp37-cp37m-manylinux_2_17_x86_64.manylinux2014_x86_64.whl (1.0 MB)\n",
            "\u001b[K     |████████████████████████████████| 1.0 MB 53.4 MB/s \n",
            "\u001b[?25hRequirement already satisfied: numpy>=1.19 in /usr/local/lib/python3.7/dist-packages (from osmnx==0.16.2) (1.21.5)\n",
            "Collecting geopandas>=0.8\n",
            "  Downloading geopandas-0.10.2-py2.py3-none-any.whl (1.0 MB)\n",
            "\u001b[K     |████████████████████████████████| 1.0 MB 47.0 MB/s \n",
            "\u001b[?25hCollecting pyproj>=2.6\n",
            "  Downloading pyproj-3.2.1-cp37-cp37m-manylinux2010_x86_64.whl (6.3 MB)\n",
            "\u001b[K     |████████████████████████████████| 6.3 MB 42.0 MB/s \n",
            "\u001b[?25hCollecting matplotlib>=3.3\n",
            "  Downloading matplotlib-3.5.1-cp37-cp37m-manylinux_2_5_x86_64.manylinux1_x86_64.whl (11.2 MB)\n",
            "\u001b[K     |████████████████████████████████| 11.2 MB 46.8 MB/s \n",
            "\u001b[?25hRequirement already satisfied: pandas>=1.1 in /usr/local/lib/python3.7/dist-packages (from osmnx==0.16.2) (1.3.5)\n",
            "Requirement already satisfied: networkx>=2.5 in /usr/local/lib/python3.7/dist-packages (from osmnx==0.16.2) (2.6.3)\n",
            "Requirement already satisfied: Shapely>=1.7 in /usr/local/lib/python3.7/dist-packages (from osmnx==0.16.2) (1.8.1.post1)\n",
            "Requirement already satisfied: descartes>=1.1 in /usr/local/lib/python3.7/dist-packages (from osmnx==0.16.2) (1.1.0)\n",
            "Collecting fiona>=1.8\n",
            "  Downloading Fiona-1.8.21-cp37-cp37m-manylinux2014_x86_64.whl (16.7 MB)\n",
            "\u001b[K     |████████████████████████████████| 16.7 MB 42.9 MB/s \n",
            "\u001b[?25hCollecting cligj>=0.5\n",
            "  Downloading cligj-0.7.2-py3-none-any.whl (7.1 kB)\n",
            "Requirement already satisfied: six>=1.7 in /usr/local/lib/python3.7/dist-packages (from fiona>=1.8->geopandas>=0.8->osmnx==0.16.2) (1.15.0)\n",
            "Collecting click-plugins>=1.0\n",
            "  Downloading click_plugins-1.1.1-py2.py3-none-any.whl (7.5 kB)\n",
            "Requirement already satisfied: click>=4.0 in /usr/local/lib/python3.7/dist-packages (from fiona>=1.8->geopandas>=0.8->osmnx==0.16.2) (7.1.2)\n",
            "Requirement already satisfied: certifi in /usr/local/lib/python3.7/dist-packages (from fiona>=1.8->geopandas>=0.8->osmnx==0.16.2) (2021.10.8)\n",
            "Collecting munch\n",
            "  Downloading munch-2.5.0-py2.py3-none-any.whl (10 kB)\n",
            "Requirement already satisfied: setuptools in /usr/local/lib/python3.7/dist-packages (from fiona>=1.8->geopandas>=0.8->osmnx==0.16.2) (57.4.0)\n",
            "Requirement already satisfied: attrs>=17 in /usr/local/lib/python3.7/dist-packages (from fiona>=1.8->geopandas>=0.8->osmnx==0.16.2) (21.4.0)\n",
            "Collecting fonttools>=4.22.0\n",
            "  Downloading fonttools-4.32.0-py3-none-any.whl (900 kB)\n",
            "\u001b[K     |████████████████████████████████| 900 kB 41.4 MB/s \n",
            "\u001b[?25hRequirement already satisfied: packaging>=20.0 in /usr/local/lib/python3.7/dist-packages (from matplotlib>=3.3->osmnx==0.16.2) (21.3)\n",
            "Requirement already satisfied: kiwisolver>=1.0.1 in /usr/local/lib/python3.7/dist-packages (from matplotlib>=3.3->osmnx==0.16.2) (1.4.2)\n",
            "Requirement already satisfied: python-dateutil>=2.7 in /usr/local/lib/python3.7/dist-packages (from matplotlib>=3.3->osmnx==0.16.2) (2.8.2)\n",
            "Requirement already satisfied: pyparsing>=2.2.1 in /usr/local/lib/python3.7/dist-packages (from matplotlib>=3.3->osmnx==0.16.2) (3.0.8)\n",
            "Requirement already satisfied: pillow>=6.2.0 in /usr/local/lib/python3.7/dist-packages (from matplotlib>=3.3->osmnx==0.16.2) (7.1.2)\n",
            "Requirement already satisfied: cycler>=0.10 in /usr/local/lib/python3.7/dist-packages (from matplotlib>=3.3->osmnx==0.16.2) (0.11.0)\n",
            "Requirement already satisfied: typing-extensions in /usr/local/lib/python3.7/dist-packages (from kiwisolver>=1.0.1->matplotlib>=3.3->osmnx==0.16.2) (4.1.1)\n",
            "Requirement already satisfied: pytz>=2017.3 in /usr/local/lib/python3.7/dist-packages (from pandas>=1.1->osmnx==0.16.2) (2018.9)\n",
            "Requirement already satisfied: idna<4,>=2.5 in /usr/local/lib/python3.7/dist-packages (from requests>=2.24->osmnx==0.16.2) (2.10)\n",
            "Requirement already satisfied: urllib3<1.27,>=1.21.1 in /usr/local/lib/python3.7/dist-packages (from requests>=2.24->osmnx==0.16.2) (1.24.3)\n",
            "Requirement already satisfied: charset-normalizer~=2.0.0 in /usr/local/lib/python3.7/dist-packages (from requests>=2.24->osmnx==0.16.2) (2.0.12)\n",
            "Installing collected packages: munch, fonttools, cligj, click-plugins, pyproj, matplotlib, fiona, Rtree, requests, geopandas, osmnx\n",
            "  Attempting uninstall: matplotlib\n",
            "    Found existing installation: matplotlib 3.2.2\n",
            "    Uninstalling matplotlib-3.2.2:\n",
            "      Successfully uninstalled matplotlib-3.2.2\n",
            "  Attempting uninstall: requests\n",
            "    Found existing installation: requests 2.23.0\n",
            "    Uninstalling requests-2.23.0:\n",
            "      Successfully uninstalled requests-2.23.0\n",
            "\u001b[31mERROR: pip's dependency resolver does not currently take into account all the packages that are installed. This behaviour is the source of the following dependency conflicts.\n",
            "google-colab 1.0.0 requires requests~=2.23.0, but you have requests 2.27.1 which is incompatible.\n",
            "datascience 0.10.6 requires folium==0.2.1, but you have folium 0.8.3 which is incompatible.\n",
            "albumentations 0.1.12 requires imgaug<0.2.7,>=0.2.5, but you have imgaug 0.2.9 which is incompatible.\u001b[0m\n",
            "Successfully installed Rtree-1.0.0 click-plugins-1.1.1 cligj-0.7.2 fiona-1.8.21 fonttools-4.32.0 geopandas-0.10.2 matplotlib-3.5.1 munch-2.5.0 osmnx-0.16.2 pyproj-3.2.1 requests-2.27.1\n"
          ]
        },
        {
          "output_type": "display_data",
          "data": {
            "application/vnd.colab-display-data+json": {
              "pip_warning": {
                "packages": [
                  "matplotlib",
                  "mpl_toolkits"
                ]
              }
            }
          },
          "metadata": {}
        }
      ],
      "source": [
        "pip install osmnx==0.16.2"
      ]
    },
    {
      "cell_type": "code",
      "execution_count": 3,
      "metadata": {
        "id": "3L6t9psKm8G-",
        "colab": {
          "base_uri": "https://localhost:8080/"
        },
        "outputId": "91b1851f-2226-4123-d94f-2341fd56ddb2"
      },
      "outputs": [
        {
          "output_type": "stream",
          "name": "stdout",
          "text": [
            "Collecting contextily\n",
            "  Downloading contextily-1.2.0-py3-none-any.whl (16 kB)\n",
            "Requirement already satisfied: requests in /usr/local/lib/python3.7/dist-packages (from contextily) (2.27.1)\n",
            "Collecting xyzservices\n",
            "  Downloading xyzservices-2022.4.0-py3-none-any.whl (36 kB)\n",
            "Collecting mercantile\n",
            "  Downloading mercantile-1.2.1-py3-none-any.whl (14 kB)\n",
            "Requirement already satisfied: joblib in /usr/local/lib/python3.7/dist-packages (from contextily) (1.1.0)\n",
            "Requirement already satisfied: geopy in /usr/local/lib/python3.7/dist-packages (from contextily) (1.17.0)\n",
            "Requirement already satisfied: pillow in /usr/local/lib/python3.7/dist-packages (from contextily) (7.1.2)\n",
            "Requirement already satisfied: matplotlib in /usr/local/lib/python3.7/dist-packages (from contextily) (3.5.1)\n",
            "Collecting rasterio\n",
            "  Downloading rasterio-1.2.10-cp37-cp37m-manylinux1_x86_64.whl (19.3 MB)\n",
            "\u001b[K     |████████████████████████████████| 19.3 MB 69.1 MB/s \n",
            "\u001b[?25hRequirement already satisfied: geographiclib<2,>=1.49 in /usr/local/lib/python3.7/dist-packages (from geopy->contextily) (1.52)\n",
            "Requirement already satisfied: packaging>=20.0 in /usr/local/lib/python3.7/dist-packages (from matplotlib->contextily) (21.3)\n",
            "Requirement already satisfied: python-dateutil>=2.7 in /usr/local/lib/python3.7/dist-packages (from matplotlib->contextily) (2.8.2)\n",
            "Requirement already satisfied: numpy>=1.17 in /usr/local/lib/python3.7/dist-packages (from matplotlib->contextily) (1.21.5)\n",
            "Requirement already satisfied: pyparsing>=2.2.1 in /usr/local/lib/python3.7/dist-packages (from matplotlib->contextily) (3.0.8)\n",
            "Requirement already satisfied: fonttools>=4.22.0 in /usr/local/lib/python3.7/dist-packages (from matplotlib->contextily) (4.32.0)\n",
            "Requirement already satisfied: kiwisolver>=1.0.1 in /usr/local/lib/python3.7/dist-packages (from matplotlib->contextily) (1.4.2)\n",
            "Requirement already satisfied: cycler>=0.10 in /usr/local/lib/python3.7/dist-packages (from matplotlib->contextily) (0.11.0)\n",
            "Requirement already satisfied: typing-extensions in /usr/local/lib/python3.7/dist-packages (from kiwisolver>=1.0.1->matplotlib->contextily) (4.1.1)\n",
            "Requirement already satisfied: six>=1.5 in /usr/local/lib/python3.7/dist-packages (from python-dateutil>=2.7->matplotlib->contextily) (1.15.0)\n",
            "Requirement already satisfied: click>=3.0 in /usr/local/lib/python3.7/dist-packages (from mercantile->contextily) (7.1.2)\n",
            "Requirement already satisfied: click-plugins in /usr/local/lib/python3.7/dist-packages (from rasterio->contextily) (1.1.1)\n",
            "Requirement already satisfied: setuptools in /usr/local/lib/python3.7/dist-packages (from rasterio->contextily) (57.4.0)\n",
            "Requirement already satisfied: attrs in /usr/local/lib/python3.7/dist-packages (from rasterio->contextily) (21.4.0)\n",
            "Requirement already satisfied: cligj>=0.5 in /usr/local/lib/python3.7/dist-packages (from rasterio->contextily) (0.7.2)\n",
            "Collecting snuggs>=1.4.1\n",
            "  Downloading snuggs-1.4.7-py3-none-any.whl (5.4 kB)\n",
            "Collecting affine\n",
            "  Downloading affine-2.3.1-py2.py3-none-any.whl (16 kB)\n",
            "Requirement already satisfied: certifi in /usr/local/lib/python3.7/dist-packages (from rasterio->contextily) (2021.10.8)\n",
            "Requirement already satisfied: idna<4,>=2.5 in /usr/local/lib/python3.7/dist-packages (from requests->contextily) (2.10)\n",
            "Requirement already satisfied: charset-normalizer~=2.0.0 in /usr/local/lib/python3.7/dist-packages (from requests->contextily) (2.0.12)\n",
            "Requirement already satisfied: urllib3<1.27,>=1.21.1 in /usr/local/lib/python3.7/dist-packages (from requests->contextily) (1.24.3)\n",
            "Installing collected packages: snuggs, affine, xyzservices, rasterio, mercantile, contextily\n",
            "Successfully installed affine-2.3.1 contextily-1.2.0 mercantile-1.2.1 rasterio-1.2.10 snuggs-1.4.7 xyzservices-2022.4.0\n"
          ]
        }
      ],
      "source": [
        "pip install contextily "
      ]
    },
    {
      "cell_type": "code",
      "execution_count": 4,
      "metadata": {
        "id": "UqY7ppaQkPVO"
      },
      "outputs": [],
      "source": [
        "# Here we have Imported all the necessary libraries and dependencies that are crutial for our program to run.\n",
        "import numpy as np\n",
        "import math\n",
        "import folium\n",
        "import contextily as ctx\n",
        "import shapely\n",
        "import osmnx as ox\n",
        "import geopandas as gpd\n",
        "from pyproj import Transformer\n",
        "from shapely.geometry import  Point, Polygon, LineString\n",
        "from matplotlib.ticker import FormatStrFormatter\n",
        "from matplotlib.patches import Circle\n",
        "from osgeo import ogr\n",
        "import matplotlib.pyplot as plt\n",
        "%matplotlib inline"
      ]
    },
    {
      "cell_type": "code",
      "execution_count": 5,
      "metadata": {
        "id": "jcTZqOEXUgQk"
      },
      "outputs": [],
      "source": [
        "# Here we have created a function called pointproject which will enable us to project/print out the actual location of our source and destination points.\n",
        "def pointreproject(point_x,point_y,inp_CRS,out_CRS):\n",
        "  \n",
        "  \"\"\" \n",
        "  Purpose of the function:\n",
        "      We will be converting the values from (latitude, longitude) to native map projection (x,y) coordinates and vice versa. \n",
        "\n",
        "        Args:\n",
        "            point_x: input CRS coordinate (x or latitude). \n",
        "            point_y: input CRS coordinate (y or longitude).\n",
        "            inp_CRS: reference system of input coordinates: 'epsg:4326','epsg:3857'... \n",
        "            out_CRS: reference system of output coordinates: 'epsg:4326','epsg:3857'...\n",
        "\n",
        "        Returns:\n",
        "            A tuple (latitude, longitude) or (x,y) of the reprojected coordinates of the input point in the output CRS.\n",
        "\n",
        "            NB: EPSG 3857 and EPSG 4326 are just a type of coordinate systems.\n",
        "              \n",
        "  \"\"\"\n",
        "  # This will convert/transform the reference system of the coordinates into x,y or longitude, latitude and vice versa.\n",
        "  transformer = Transformer.from_crs(inp_CRS, out_CRS)\n",
        "  out_x,out_y = transformer.transform(point_x, point_y)\n",
        "  transformer = []\n",
        "  # Returns the transformed out put\n",
        "  return out_x,out_y"
      ]
    },
    {
      "cell_type": "code",
      "execution_count": 6,
      "metadata": {
        "id": "Y341N91J18kn"
      },
      "outputs": [],
      "source": [
        "\n",
        "def rgraphfrompoints(starting_point,ending_point):\n",
        "\n",
        "  \"\"\"\n",
        "  Purpose of the function:\n",
        "   -->To create a graph, with edges (roads) and nodes (road intersections), based on the two given points.\n",
        "        The two given points must be in the WGS84 coordinate reference system and in the form of (latitude, longitude).  \n",
        "        NB: WGS84 is also a coordinate reference system which adds Greenwich as a starting point (Prime meridian) for longtiude (0 degree).\n",
        "\n",
        "        Args:\n",
        "            starting_point: the route's starting point. -> A tuple of (latitude, longitude).\n",
        "            ending_point: the route's ending point. -> A tuple of (latitude, longitude).\n",
        "\n",
        "        Returns:\n",
        "            A reprojected (from EPSG:4326 to EPSG:3857) MultiDiGraph from the osmnx package.\n",
        "              \n",
        "  \"\"\"\n",
        "  #Here we input points of our geographical coordinates.  \n",
        "  lat1 = starting_point[0]\n",
        "  lat2 = ending_point[0]\n",
        "  long1 = starting_point[1]\n",
        "  long2 = ending_point[1]\n",
        "  \n",
        "  #Here we will find the function's argument values.\n",
        "  north = lat2\n",
        "  south = lat1\n",
        "  if  lat1 > lat2:\n",
        "    north = lat1 \n",
        "    south = lat2\n",
        "\n",
        "  east = long2\n",
        "  west = long1\n",
        "  if  long1 > long2:\n",
        "    east = long1 \n",
        "    west = long2\n",
        "\n",
        "  #Here we will construct the road graph using the osmnx package\n",
        "  roadgraph = ox.graph_from_bbox(north+0.01, south-0.01, east+0.01, west-0.01, network_type = 'drive', simplify=False )\n",
        "\n",
        "  #Here we will reproject the road graph.\n",
        "  projected_roadgraph = ox.projection.project_graph(roadgraph, to_crs='epsg:3857')\n",
        "# ANd return the reprojected graph\n",
        "  return projected_roadgraph "
      ]
    },
    {
      "cell_type": "code",
      "execution_count": 7,
      "metadata": {
        "id": "U4NxiIXDwwu9"
      },
      "outputs": [],
      "source": [
        "def nearest_edge_node_id(point,roadgraph):\n",
        "\n",
        "  \"\"\"\n",
        "  Purpose of the function:\n",
        "      --> To find the nearest network's node id for the given point, which lies in the nearest network edge.\n",
        "      Input Point -> Nearest Edge Point -> Nearest Network Node (Route Starting/Ending Point).\n",
        "      The given point's coordinates must be in the EPSG:4326.  \n",
        "\n",
        "      Args:\n",
        "          point: The point:(latitude, longitude) that needs to be transfered to the nearest network node.\n",
        "          roadgraph: A reprojected (from EPSG:4326 to EPSG:3857) MultiDiGraph from the osmnx package.\n",
        "\n",
        "      Returns:\n",
        "          The nearest network's node id for the given point, which is in the nearest network edge. \n",
        "      \n",
        "  \"\"\"\n",
        "  #Here we will reproject point coordinates from EPSG:4326 to the EPSG:3857.   \n",
        "  point_x, point_y = pointreproject(point[0], point[1],'epsg:4326','epsg:3857')\n",
        "\n",
        "  #Here we will find the nearest road.\n",
        "  _, _, _, nearest_road = ox.distance.get_nearest_edge(roadgraph, (point_y,point_x), return_geom=True)\n",
        "  \n",
        "  #Here we find all point coordinates that are constructing the specific road that we want.\n",
        "  nearest_road_coords = np.array(nearest_road.xy)\n",
        "\n",
        "  #Here we will calculate all distances between the input point and all the points constructing the nearest road line.\n",
        "  nearest_distances = []\n",
        "  for i in range(0,nearest_road_coords[0].size):\n",
        "    e_dist = ox.distance.euclidean_dist_vec(point_y,point_x,nearest_road_coords[1][i],nearest_road_coords[0][i])\n",
        "    nearest_distances.append(e_dist)\n",
        "  mindist = min(nearest_distances)\n",
        "  for i in range(0,len(nearest_distances)):\n",
        "    if nearest_distances[i]==mindist: pos=i\n",
        "                                \n",
        "  #Here we will assign the nearest edge node coordinates.\n",
        "  nearest_edge_node_x = nearest_road_coords[0][pos]  \n",
        "  nearest_edge_node_y = nearest_road_coords[1][pos]  \n",
        "\n",
        "  #Here we will find the nearest network's node id, which has the minimum distance from the road point that has the minimum distance from the input point.\n",
        "  node_id= ox.distance.get_nearest_node(roadgraph, (nearest_edge_node_y,nearest_edge_node_x),  method='euclidean')\n",
        "\n",
        "# At last we will return the node id.\n",
        "  return node_id"
      ]
    },
    {
      "cell_type": "code",
      "execution_count": 8,
      "metadata": {
        "id": "nasHOUfW_ylu"
      },
      "outputs": [],
      "source": [
        "def pointreproject2edge(point,roadgraph):\n",
        "\n",
        "  \"\"\"\n",
        "     Purpose of the function:\n",
        "    --> To Find the nearest network's edge for the given point, and reprojects it perpendicularly to its nearest edge.\n",
        "        If the orthogonal projection of the point lies outside the nearest edge's nodes, then the point isn't reprojected\n",
        "        but it is transferred to the nearest network node instead.\n",
        "\n",
        "        The given point's coordinates must be in the EPSG:4326, and following the form of (latitude, longitude).  \n",
        "\n",
        "        Args:\n",
        "            point: The point:(latitude, longitude) that needs to be projected to the nearest network edge.\n",
        "            roadgraph: A MultiDiGraph (EPSG:3857) from the osmnx package.\n",
        "\n",
        "        Returns:\n",
        "            A tuple (latitude, longitude) of the reprojected coordinates of the input point.\n",
        "        \n",
        "  \"\"\"\n",
        "\n",
        "  #Here we will reproject point coordinates from EPSG:4326 to the EPSG:3857.   \n",
        "  point_x, point_y = pointreproject(point[0], point[1],'epsg:4326','epsg:3857')\n",
        "\n",
        "  #Here we will find the nearest road.\n",
        "  _, _, _, nearest_road, dist__pp = ox.distance.get_nearest_edge(roadgraph, (point_y,point_x), return_geom=True, return_dist=True)\n",
        "\n",
        "  #Here we will extract the nearest road coordinates.\n",
        "  nearest_road_coords = np.array(nearest_road.xy)\n",
        "\n",
        "  #We will calculate the euclidean distance between the input point and the nearest edge's first node.\n",
        "  dist__pv = ox.distance.euclidean_dist_vec(point_y,point_x,nearest_road_coords[1][0],nearest_road_coords[0][0])\n",
        "\n",
        "  #This will calculate the hypotenuse.\n",
        "  dist = np.sqrt(dist__pv**2-dist__pp**2)\n",
        "\n",
        "  #Here we will create the corresponding circle.\n",
        "  circle = Point(nearest_road_coords[0][0], nearest_road_coords[1][0]).buffer(dist).boundary\n",
        "\n",
        "  #Then we will find the circle's intersection point with the given edge.\n",
        "  intersection_points = circle.intersection(nearest_road)\n",
        "  \n",
        "  # set the bool to False \n",
        "  lies_in = False\n",
        "\n",
        "  #If the orthogonal projection of the point lies inside the nearest edge's nodes.\n",
        "  if type(intersection_points) == shapely.geometry.point.Point:\n",
        "    lies_in = True\n",
        "    intersection_point_x = intersection_points.x\n",
        "    intersection_point_y = intersection_points.y\n",
        " \n",
        "  #If the orthogonal projection of the point lies outside the nearest edge's nodes.\n",
        "  else:\n",
        "    gdf = ox.utils_graph.graph_to_gdfs(roadgraph)\n",
        "    nodes_gdf = gdf[0].reset_index(drop=True) \n",
        "    nearest_node_id = nearest_edge_node_id(point,roadgraph)\n",
        "    intersection_point_x = nodes_gdf.loc[(nodes_gdf['osmid']==nearest_node_id)].x.values[0]\n",
        "    intersection_point_y = nodes_gdf.loc[(nodes_gdf['osmid']==nearest_node_id)].y.values[0]\n",
        "\n",
        "  #Then we will find the nearest node id from the intersection point.\n",
        "  node_id = ox.distance.get_nearest_node(roadgraph, (intersection_point_y,intersection_point_x),  method='euclidean')\n",
        "\n",
        "  #Finally we will reproject the calculated grid point from epsg:3857 to epsg:4326.\n",
        "  point_lat, point_long = pointreproject(intersection_point_x, intersection_point_y,'epsg:3857','epsg:4326')\n",
        "  \n",
        "  return point_lat, point_long, lies_in"
      ]
    },
    {
      "cell_type": "code",
      "execution_count": 9,
      "metadata": {
        "id": "cl0gSA_qqSOB"
      },
      "outputs": [],
      "source": [
        "def routeplot(start,end):\n",
        "    \n",
        "    \"\"\"\n",
        "    Purpose of the function:\n",
        "      --> To find and plot the shortest route based on Dijkstra's pathfinding algorithm- between the \n",
        "      two given points in the given roadgraph.The given points coordinates must be in the EPSG:4326 \n",
        "      and they must be following the form of (latitude, longitude). \n",
        "\n",
        "      Args:\n",
        "          starting_point: the route's starting point. -> A tuple of (latitude, longitude).\n",
        "          ending_point: the route's ending point. -> A tuple of (latitude, longitude).\n",
        "\n",
        "      Returns:\n",
        "          A Folium map with the given starting and ending points and the shortest path between them. \n",
        "    \n",
        "  \"\"\"\n",
        "\n",
        "  # Here we set some specific points/areas where we would like to have a possible shortest paths in between and entered the actual coordinates of the locations.\n",
        "  # We set start for our starting points or places\n",
        "  \n",
        "    if start == \"ALU Campus\": \n",
        "          starting_point = (-1.9295149476454851, 30.15216891903913)   #-1.9295149476454851, 30.15216891903913\n",
        "    elif start == \"Remera\":\n",
        "          starting_point = (-1.9603797582432974, 30.10894093684139)   # -1.9603797582432974, 30.10894093684139\n",
        "    elif start == \"Down Town\":\n",
        "          starting_point = (-1.9434555360830934, 30.05733382342882)   #-1.9434555360830934, 30.05733382342882\n",
        "    elif start == \"Kimronko\":\n",
        "          starting_point = (-1.9494401595403812, 30.125003458771193)   #-1.9494401595403812, 30.125003458771193\n",
        "          \n",
        "    # We have sent end to our final destinations\n",
        "    if end == \"ALU Campus\":\n",
        "          ending_point = (-1.9295149476454851, 30.15216891903913)\n",
        "    elif end == \"Remera\":\n",
        "          ending_point = (-1.9603797582432974, 30.10894093684139) \n",
        "    elif end == \"Down Town\":\n",
        "          ending_point = (-1.9434555360830934, 30.05733382342882)\n",
        "    elif end == \"Kimronko\":\n",
        "          ending_point = (-1.9494401595403812, 30.125003458771193)  \n",
        "    \n",
        "    #We will calculate the roadgraph between the starting and ending points by using rgraphfrompoints function found above .\n",
        "    roadgraph = rgraphfrompoints(starting_point,ending_point)\n",
        "\n",
        "    #Then we will find the routes starting end ending point which lies inside the given roadgraph.\n",
        "    p_lat1,p_long1,lies_in1 = pointreproject2edge(starting_point,roadgraph)\n",
        "    p_lat2,p_long2,lies_in2 = pointreproject2edge(ending_point,roadgraph)\n",
        "\n",
        "    #We will find the nearest edge node id next.\n",
        "    node1_id = nearest_edge_node_id(starting_point,roadgraph)\n",
        "    node2_id = nearest_edge_node_id(ending_point,roadgraph)\n",
        "    \n",
        "    #Then we will calculate the sortest path between the two given nodes.\n",
        "    nodeids = ox.shortest_path(roadgraph, node1_id, node2_id)\n",
        "\n",
        "    #Here we will create the necessary geodataframes.\n",
        "    gdf = ox.utils_graph.graph_to_gdfs(roadgraph)\n",
        "    nodes_gdf = gdf[0].reset_index(drop=True) \n",
        "\n",
        "    #we will create our Map's center point.\n",
        "    center_lat = (starting_point[0]+ending_point[0])/2\n",
        "    center_long = (starting_point[1]+ending_point[1])/2\n",
        "    center = [center_lat,center_long]\n",
        "\n",
        "    #The next is where we have defined the map.\n",
        "    map = folium.Map(location=center, zoom_start=13, crs='EPSG3857')\n",
        "\n",
        "    #Then we will Plot Original points using folium package dependencies we have installed earlier on.\n",
        "    folium.Marker((starting_point[0], starting_point[1]), \n",
        "                  popup=\"Original Starting Point\", tooltip=\"Original Starting Point\", \n",
        "                  icon=folium.Icon(color='pink', icon=\"fas fa-car\", prefix='fa')).add_to(map);\n",
        "\n",
        "    folium.Marker((ending_point[0], ending_point[1]), \n",
        "                  popup=\"Original Destination\", tooltip=\"Original Destination\", \n",
        "                  icon=folium.Icon(color='pink', icon=\"fas fa-crosshairs\", prefix='fa')).add_to(map);\n",
        "\n",
        "    #First we will Plot Starting and Destination points.\n",
        "    folium.Marker((p_lat1,p_long1), \n",
        "                  popup=\"Starting Point\", tooltip=\"Starting Point\", \n",
        "                  icon=folium.Icon(color='darkblue', icon=\"fas fa-car\", prefix='fa')).add_to(map);\n",
        "\n",
        "    folium.Marker((p_lat2,p_long2), \n",
        "                  popup=\"Destination\", tooltip=\"Destination\", \n",
        "                  icon=folium.Icon(color='darkblue', icon=\"fas fa-crosshairs\", prefix='fa')).add_to(map);\n",
        "\n",
        "    #Here we will create a list of tuples (for the locations) for each of route's node coordinates.\n",
        "    locations = []\n",
        "    locations.append((p_lat1,p_long1)) #Add the starting point to the route.\n",
        "    for node_id in nodeids:\n",
        "      p_lat = nodes_gdf.loc[(nodes_gdf['osmid']==node_id)].lat.values[0]\n",
        "      p_long = nodes_gdf.loc[(nodes_gdf['osmid']==node_id)].lon.values[0]\n",
        "      locations.append((p_lat,p_long))\n",
        "    locations.append((p_lat2,p_long2)) #Add the ending point to the route.\n",
        "\n",
        "    #Then we will cut the final route segment if the starting point lies in it.\n",
        "    if lies_in1: \n",
        "      r1 = pointreproject(locations[1][0],locations[1][1],'epsg:4326','epsg:3857')\n",
        "      r2 = pointreproject(locations[2][0],locations[2][1],'epsg:4326','epsg:3857')\n",
        "      road1 = LineString([r1,r2])\n",
        "      point1_x, point1_y = pointreproject(p_lat1,p_long1,'epsg:4326','epsg:3857')\n",
        "      point1 = Point(point1_x, point1_y)\n",
        "      if road1.distance(point1) < 1e-8 :del locations[1] \n",
        "\n",
        "    #Here we will Cut the final route segment if the ending point lies in it.\n",
        "\n",
        "    \"\"\"\n",
        "     --> Here some users might select the same point as their starting and destination point.\n",
        "      When this happens it will generate an index error. Just to make sure this wont happen, We have used the try and except error handling\n",
        "      (Which is also more like our test case in this situation) the program wont crash and will notify the user to enter a diffrent end point.\n",
        "\n",
        "    \"\"\"\n",
        "\n",
        "    try:\n",
        "      if lies_in2: \n",
        "        r3 = pointreproject(locations[-3][0],locations[-3][1],'epsg:4326','epsg:3857')\n",
        "        r4 = pointreproject(locations[-2][0],locations[-2][1],'epsg:4326','epsg:3857')\n",
        "        road2 = LineString([r3,r4])\n",
        "        point2_x, point2_y = pointreproject(p_lat2,p_long2,'epsg:4326','epsg:3857')\n",
        "        point2 = Point(point2_x, point2_y)\n",
        "        if road2.distance(point2) < 1e-8 :del locations[-2] \n",
        "    except IndexError:\n",
        "      print('Please choose a different destination point.')\n",
        "\n",
        "\n",
        "    #We will create a folium polyline from the list of \"locations\".\n",
        "    route = folium.PolyLine(locations=locations,tooltip='Route', smooth_factor=0.3, color=\"purple\", weight=2.5, opacity=1)\n",
        "\n",
        "    #Now after creating the folium polyline we will Plot the route.\n",
        "    route.add_to(map);\n",
        "\n",
        "    #We will Save the map to html file.\n",
        "    map.save('route.html') #saves the .html file in the local directory.\n",
        "\n",
        "    #Finally Plot the map.\n",
        "    return map"
      ]
    },
    {
      "cell_type": "code",
      "source": [
        "#@title Xplore Kigali\n",
        "import ipywidgets as widgets\n",
        "import warnings\n",
        "warnings.filterwarnings('ignore')\n",
        "\n",
        "Origin = \"ALU Campus\" #@param [\"ALU Campus\", \"Down Town\", \"Kimronko\", \"Remera\"]\n",
        "Destination = \"ALU Campus\" #@param [\"ALU Campus\", \"Down Town\", \"Kimronko\", \"Remera\"]\n",
        "\n",
        "routeplot(Origin, Destination)\n"
      ],
      "metadata": {
        "colab": {
          "base_uri": "https://localhost:8080/",
          "height": 729
        },
        "cellView": "form",
        "id": "AJXICcUbWNT3",
        "outputId": "0c9d2c5e-39ff-4e8d-f6ab-96d26dd7150c"
      },
      "execution_count": null,
      "outputs": [
        {
          "output_type": "stream",
          "name": "stdout",
          "text": [
            "Please choose a different destination point.\n"
          ]
        },
        {
          "output_type": "execute_result",
          "data": {
            "text/plain": [
              "<folium.folium.Map at 0x7f6e68342a50>"
            ],
            "text/html": [
              "<div style=\"width:100%;\"><div style=\"position:relative;width:100%;height:0;padding-bottom:60%;\"><span style=\"color:#565656\">Make this Notebook Trusted to load map: File -> Trust Notebook</span><iframe src=\"about:blank\" style=\"position:absolute;width:100%;height:100%;left:0;top:0;border:none !important;\" data-html=%3C%21DOCTYPE%20html%3E%0A%3Chead%3E%20%20%20%20%0A%20%20%20%20%3Cmeta%20http-equiv%3D%22content-type%22%20content%3D%22text/html%3B%20charset%3DUTF-8%22%20/%3E%0A%20%20%20%20%3Cscript%3EL_PREFER_CANVAS%3Dfalse%3B%20L_NO_TOUCH%3Dfalse%3B%20L_DISABLE_3D%3Dfalse%3B%3C/script%3E%0A%20%20%20%20%3Cscript%20src%3D%22https%3A//cdn.jsdelivr.net/npm/leaflet%401.4.0/dist/leaflet.js%22%3E%3C/script%3E%0A%20%20%20%20%3Cscript%20src%3D%22https%3A//code.jquery.com/jquery-1.12.4.min.js%22%3E%3C/script%3E%0A%20%20%20%20%3Cscript%20src%3D%22https%3A//maxcdn.bootstrapcdn.com/bootstrap/3.2.0/js/bootstrap.min.js%22%3E%3C/script%3E%0A%20%20%20%20%3Cscript%20src%3D%22https%3A//cdnjs.cloudflare.com/ajax/libs/Leaflet.awesome-markers/2.0.2/leaflet.awesome-markers.js%22%3E%3C/script%3E%0A%20%20%20%20%3Clink%20rel%3D%22stylesheet%22%20href%3D%22https%3A//cdn.jsdelivr.net/npm/leaflet%401.4.0/dist/leaflet.css%22/%3E%0A%20%20%20%20%3Clink%20rel%3D%22stylesheet%22%20href%3D%22https%3A//maxcdn.bootstrapcdn.com/bootstrap/3.2.0/css/bootstrap.min.css%22/%3E%0A%20%20%20%20%3Clink%20rel%3D%22stylesheet%22%20href%3D%22https%3A//maxcdn.bootstrapcdn.com/bootstrap/3.2.0/css/bootstrap-theme.min.css%22/%3E%0A%20%20%20%20%3Clink%20rel%3D%22stylesheet%22%20href%3D%22https%3A//maxcdn.bootstrapcdn.com/font-awesome/4.6.3/css/font-awesome.min.css%22/%3E%0A%20%20%20%20%3Clink%20rel%3D%22stylesheet%22%20href%3D%22https%3A//cdnjs.cloudflare.com/ajax/libs/Leaflet.awesome-markers/2.0.2/leaflet.awesome-markers.css%22/%3E%0A%20%20%20%20%3Clink%20rel%3D%22stylesheet%22%20href%3D%22https%3A//rawcdn.githack.com/python-visualization/folium/master/folium/templates/leaflet.awesome.rotate.css%22/%3E%0A%20%20%20%20%3Cstyle%3Ehtml%2C%20body%20%7Bwidth%3A%20100%25%3Bheight%3A%20100%25%3Bmargin%3A%200%3Bpadding%3A%200%3B%7D%3C/style%3E%0A%20%20%20%20%3Cstyle%3E%23map%20%7Bposition%3Aabsolute%3Btop%3A0%3Bbottom%3A0%3Bright%3A0%3Bleft%3A0%3B%7D%3C/style%3E%0A%20%20%20%20%0A%20%20%20%20%3Cmeta%20name%3D%22viewport%22%20content%3D%22width%3Ddevice-width%2C%0A%20%20%20%20%20%20%20%20initial-scale%3D1.0%2C%20maximum-scale%3D1.0%2C%20user-scalable%3Dno%22%20/%3E%0A%20%20%20%20%3Cstyle%3E%23map_aa012be059c14e05a82dde88ad49c974%20%7B%0A%20%20%20%20%20%20%20%20position%3A%20relative%3B%0A%20%20%20%20%20%20%20%20width%3A%20100.0%25%3B%0A%20%20%20%20%20%20%20%20height%3A%20100.0%25%3B%0A%20%20%20%20%20%20%20%20left%3A%200.0%25%3B%0A%20%20%20%20%20%20%20%20top%3A%200.0%25%3B%0A%20%20%20%20%20%20%20%20%7D%0A%20%20%20%20%3C/style%3E%0A%3C/head%3E%0A%3Cbody%3E%20%20%20%20%0A%20%20%20%20%0A%20%20%20%20%3Cdiv%20class%3D%22folium-map%22%20id%3D%22map_aa012be059c14e05a82dde88ad49c974%22%20%3E%3C/div%3E%0A%3C/body%3E%0A%3Cscript%3E%20%20%20%20%0A%20%20%20%20%0A%20%20%20%20%0A%20%20%20%20%20%20%20%20var%20bounds%20%3D%20null%3B%0A%20%20%20%20%0A%0A%20%20%20%20var%20map_aa012be059c14e05a82dde88ad49c974%20%3D%20L.map%28%0A%20%20%20%20%20%20%20%20%27map_aa012be059c14e05a82dde88ad49c974%27%2C%20%7B%0A%20%20%20%20%20%20%20%20center%3A%20%5B-1.9295149476454851%2C%2030.15216891903913%5D%2C%0A%20%20%20%20%20%20%20%20zoom%3A%2013%2C%0A%20%20%20%20%20%20%20%20maxBounds%3A%20bounds%2C%0A%20%20%20%20%20%20%20%20layers%3A%20%5B%5D%2C%0A%20%20%20%20%20%20%20%20worldCopyJump%3A%20false%2C%0A%20%20%20%20%20%20%20%20crs%3A%20L.CRS.EPSG3857%2C%0A%20%20%20%20%20%20%20%20zoomControl%3A%20true%2C%0A%20%20%20%20%20%20%20%20%7D%29%3B%0A%0A%0A%20%20%20%20%0A%20%20%20%20var%20tile_layer_89bae82345a64a14aec16d54a3ef3a9c%20%3D%20L.tileLayer%28%0A%20%20%20%20%20%20%20%20%27https%3A//%7Bs%7D.tile.openstreetmap.org/%7Bz%7D/%7Bx%7D/%7By%7D.png%27%2C%0A%20%20%20%20%20%20%20%20%7B%0A%20%20%20%20%20%20%20%20%22attribution%22%3A%20null%2C%0A%20%20%20%20%20%20%20%20%22detectRetina%22%3A%20false%2C%0A%20%20%20%20%20%20%20%20%22maxNativeZoom%22%3A%2018%2C%0A%20%20%20%20%20%20%20%20%22maxZoom%22%3A%2018%2C%0A%20%20%20%20%20%20%20%20%22minZoom%22%3A%200%2C%0A%20%20%20%20%20%20%20%20%22noWrap%22%3A%20false%2C%0A%20%20%20%20%20%20%20%20%22opacity%22%3A%201%2C%0A%20%20%20%20%20%20%20%20%22subdomains%22%3A%20%22abc%22%2C%0A%20%20%20%20%20%20%20%20%22tms%22%3A%20false%0A%7D%29.addTo%28map_aa012be059c14e05a82dde88ad49c974%29%3B%0A%20%20%20%20%0A%20%20%20%20%20%20%20%20var%20marker_26adcb95569d488cb2ae98fcfb56efbe%20%3D%20L.marker%28%0A%20%20%20%20%20%20%20%20%20%20%20%20%5B-1.9295149476454851%2C%2030.15216891903913%5D%2C%0A%20%20%20%20%20%20%20%20%20%20%20%20%7B%0A%20%20%20%20%20%20%20%20%20%20%20%20%20%20%20%20icon%3A%20new%20L.Icon.Default%28%29%2C%0A%20%20%20%20%20%20%20%20%20%20%20%20%20%20%20%20%7D%0A%20%20%20%20%20%20%20%20%20%20%20%20%29.addTo%28map_aa012be059c14e05a82dde88ad49c974%29%3B%0A%20%20%20%20%20%20%20%20%0A%20%20%20%20%0A%0A%20%20%20%20%20%20%20%20%20%20%20%20%20%20%20%20var%20icon_61a98ce5c71c44768b07bc30d0010b56%20%3D%20L.AwesomeMarkers.icon%28%7B%0A%20%20%20%20%20%20%20%20%20%20%20%20%20%20%20%20%20%20%20%20icon%3A%20%27fas%20fa-car%27%2C%0A%20%20%20%20%20%20%20%20%20%20%20%20%20%20%20%20%20%20%20%20iconColor%3A%20%27white%27%2C%0A%20%20%20%20%20%20%20%20%20%20%20%20%20%20%20%20%20%20%20%20markerColor%3A%20%27pink%27%2C%0A%20%20%20%20%20%20%20%20%20%20%20%20%20%20%20%20%20%20%20%20prefix%3A%20%27fa%27%2C%0A%20%20%20%20%20%20%20%20%20%20%20%20%20%20%20%20%20%20%20%20extraClasses%3A%20%27fa-rotate-0%27%0A%20%20%20%20%20%20%20%20%20%20%20%20%20%20%20%20%20%20%20%20%7D%29%3B%0A%20%20%20%20%20%20%20%20%20%20%20%20%20%20%20%20marker_26adcb95569d488cb2ae98fcfb56efbe.setIcon%28icon_61a98ce5c71c44768b07bc30d0010b56%29%3B%0A%20%20%20%20%20%20%20%20%20%20%20%20%0A%20%20%20%20%0A%20%20%20%20%20%20%20%20%20%20%20%20var%20popup_f3d54b03afe94a76b0872c0627a87374%20%3D%20L.popup%28%7BmaxWidth%3A%20%27100%25%27%0A%20%20%20%20%20%20%20%20%20%20%20%20%0A%20%20%20%20%20%20%20%20%20%20%20%20%7D%29%3B%0A%0A%20%20%20%20%20%20%20%20%20%20%20%20%0A%20%20%20%20%20%20%20%20%20%20%20%20%20%20%20%20var%20html_3bd58e085af740888ac8221079bd77ef%20%3D%20%24%28%60%3Cdiv%20id%3D%22html_3bd58e085af740888ac8221079bd77ef%22%20style%3D%22width%3A%20100.0%25%3B%20height%3A%20100.0%25%3B%22%3EOriginal%20Starting%20Point%3C/div%3E%60%29%5B0%5D%3B%0A%20%20%20%20%20%20%20%20%20%20%20%20%20%20%20%20popup_f3d54b03afe94a76b0872c0627a87374.setContent%28html_3bd58e085af740888ac8221079bd77ef%29%3B%0A%20%20%20%20%20%20%20%20%20%20%20%20%0A%0A%20%20%20%20%20%20%20%20%20%20%20%20marker_26adcb95569d488cb2ae98fcfb56efbe.bindPopup%28popup_f3d54b03afe94a76b0872c0627a87374%29%0A%20%20%20%20%20%20%20%20%20%20%20%20%3B%0A%0A%20%20%20%20%20%20%20%20%20%20%20%20%0A%20%20%20%20%20%20%20%20%0A%20%20%20%20%0A%20%20%20%20%20%20%20%20marker_26adcb95569d488cb2ae98fcfb56efbe.bindTooltip%28%0A%20%20%20%20%20%20%20%20%20%20%20%20%60%3Cdiv%3E%60%0A%20%20%20%20%20%20%20%20%20%20%20%20%2B%20%60Original%20Starting%20Point%60%20%2B%20%60%3C/div%3E%60%2C%0A%20%20%20%20%20%20%20%20%20%20%20%20%7B%22sticky%22%3A%20true%7D%0A%20%20%20%20%20%20%20%20%29%3B%0A%20%20%20%20%20%20%20%20%0A%20%20%20%20%0A%20%20%20%20%20%20%20%20var%20marker_a2ca58e2562a4adf9babf0761ad1e5b1%20%3D%20L.marker%28%0A%20%20%20%20%20%20%20%20%20%20%20%20%5B-1.9295149476454851%2C%2030.15216891903913%5D%2C%0A%20%20%20%20%20%20%20%20%20%20%20%20%7B%0A%20%20%20%20%20%20%20%20%20%20%20%20%20%20%20%20icon%3A%20new%20L.Icon.Default%28%29%2C%0A%20%20%20%20%20%20%20%20%20%20%20%20%20%20%20%20%7D%0A%20%20%20%20%20%20%20%20%20%20%20%20%29.addTo%28map_aa012be059c14e05a82dde88ad49c974%29%3B%0A%20%20%20%20%20%20%20%20%0A%20%20%20%20%0A%0A%20%20%20%20%20%20%20%20%20%20%20%20%20%20%20%20var%20icon_69fcde89f91b4495bcb3fd3091ae3b1d%20%3D%20L.AwesomeMarkers.icon%28%7B%0A%20%20%20%20%20%20%20%20%20%20%20%20%20%20%20%20%20%20%20%20icon%3A%20%27fas%20fa-crosshairs%27%2C%0A%20%20%20%20%20%20%20%20%20%20%20%20%20%20%20%20%20%20%20%20iconColor%3A%20%27white%27%2C%0A%20%20%20%20%20%20%20%20%20%20%20%20%20%20%20%20%20%20%20%20markerColor%3A%20%27pink%27%2C%0A%20%20%20%20%20%20%20%20%20%20%20%20%20%20%20%20%20%20%20%20prefix%3A%20%27fa%27%2C%0A%20%20%20%20%20%20%20%20%20%20%20%20%20%20%20%20%20%20%20%20extraClasses%3A%20%27fa-rotate-0%27%0A%20%20%20%20%20%20%20%20%20%20%20%20%20%20%20%20%20%20%20%20%7D%29%3B%0A%20%20%20%20%20%20%20%20%20%20%20%20%20%20%20%20marker_a2ca58e2562a4adf9babf0761ad1e5b1.setIcon%28icon_69fcde89f91b4495bcb3fd3091ae3b1d%29%3B%0A%20%20%20%20%20%20%20%20%20%20%20%20%0A%20%20%20%20%0A%20%20%20%20%20%20%20%20%20%20%20%20var%20popup_72f4eeeb43174c808966f6b86b83f249%20%3D%20L.popup%28%7BmaxWidth%3A%20%27100%25%27%0A%20%20%20%20%20%20%20%20%20%20%20%20%0A%20%20%20%20%20%20%20%20%20%20%20%20%7D%29%3B%0A%0A%20%20%20%20%20%20%20%20%20%20%20%20%0A%20%20%20%20%20%20%20%20%20%20%20%20%20%20%20%20var%20html_bf37a0a710c94b978425093a3fbd0529%20%3D%20%24%28%60%3Cdiv%20id%3D%22html_bf37a0a710c94b978425093a3fbd0529%22%20style%3D%22width%3A%20100.0%25%3B%20height%3A%20100.0%25%3B%22%3EOriginal%20Destination%3C/div%3E%60%29%5B0%5D%3B%0A%20%20%20%20%20%20%20%20%20%20%20%20%20%20%20%20popup_72f4eeeb43174c808966f6b86b83f249.setContent%28html_bf37a0a710c94b978425093a3fbd0529%29%3B%0A%20%20%20%20%20%20%20%20%20%20%20%20%0A%0A%20%20%20%20%20%20%20%20%20%20%20%20marker_a2ca58e2562a4adf9babf0761ad1e5b1.bindPopup%28popup_72f4eeeb43174c808966f6b86b83f249%29%0A%20%20%20%20%20%20%20%20%20%20%20%20%3B%0A%0A%20%20%20%20%20%20%20%20%20%20%20%20%0A%20%20%20%20%20%20%20%20%0A%20%20%20%20%0A%20%20%20%20%20%20%20%20marker_a2ca58e2562a4adf9babf0761ad1e5b1.bindTooltip%28%0A%20%20%20%20%20%20%20%20%20%20%20%20%60%3Cdiv%3E%60%0A%20%20%20%20%20%20%20%20%20%20%20%20%2B%20%60Original%20Destination%60%20%2B%20%60%3C/div%3E%60%2C%0A%20%20%20%20%20%20%20%20%20%20%20%20%7B%22sticky%22%3A%20true%7D%0A%20%20%20%20%20%20%20%20%29%3B%0A%20%20%20%20%20%20%20%20%0A%20%20%20%20%0A%20%20%20%20%20%20%20%20var%20marker_d80e02978b764711a795a52f878a0c38%20%3D%20L.marker%28%0A%20%20%20%20%20%20%20%20%20%20%20%20%5B-1.9295003560532906%2C%2030.15216259848099%5D%2C%0A%20%20%20%20%20%20%20%20%20%20%20%20%7B%0A%20%20%20%20%20%20%20%20%20%20%20%20%20%20%20%20icon%3A%20new%20L.Icon.Default%28%29%2C%0A%20%20%20%20%20%20%20%20%20%20%20%20%20%20%20%20%7D%0A%20%20%20%20%20%20%20%20%20%20%20%20%29.addTo%28map_aa012be059c14e05a82dde88ad49c974%29%3B%0A%20%20%20%20%20%20%20%20%0A%20%20%20%20%0A%0A%20%20%20%20%20%20%20%20%20%20%20%20%20%20%20%20var%20icon_43ec09bd3df1410e96b05bdbce8d9b72%20%3D%20L.AwesomeMarkers.icon%28%7B%0A%20%20%20%20%20%20%20%20%20%20%20%20%20%20%20%20%20%20%20%20icon%3A%20%27fas%20fa-car%27%2C%0A%20%20%20%20%20%20%20%20%20%20%20%20%20%20%20%20%20%20%20%20iconColor%3A%20%27white%27%2C%0A%20%20%20%20%20%20%20%20%20%20%20%20%20%20%20%20%20%20%20%20markerColor%3A%20%27darkblue%27%2C%0A%20%20%20%20%20%20%20%20%20%20%20%20%20%20%20%20%20%20%20%20prefix%3A%20%27fa%27%2C%0A%20%20%20%20%20%20%20%20%20%20%20%20%20%20%20%20%20%20%20%20extraClasses%3A%20%27fa-rotate-0%27%0A%20%20%20%20%20%20%20%20%20%20%20%20%20%20%20%20%20%20%20%20%7D%29%3B%0A%20%20%20%20%20%20%20%20%20%20%20%20%20%20%20%20marker_d80e02978b764711a795a52f878a0c38.setIcon%28icon_43ec09bd3df1410e96b05bdbce8d9b72%29%3B%0A%20%20%20%20%20%20%20%20%20%20%20%20%0A%20%20%20%20%0A%20%20%20%20%20%20%20%20%20%20%20%20var%20popup_2979e073a6d14f0cb1b3c7d9620924ad%20%3D%20L.popup%28%7BmaxWidth%3A%20%27100%25%27%0A%20%20%20%20%20%20%20%20%20%20%20%20%0A%20%20%20%20%20%20%20%20%20%20%20%20%7D%29%3B%0A%0A%20%20%20%20%20%20%20%20%20%20%20%20%0A%20%20%20%20%20%20%20%20%20%20%20%20%20%20%20%20var%20html_533be8578fb84dae91eb2932642800da%20%3D%20%24%28%60%3Cdiv%20id%3D%22html_533be8578fb84dae91eb2932642800da%22%20style%3D%22width%3A%20100.0%25%3B%20height%3A%20100.0%25%3B%22%3EStarting%20Point%3C/div%3E%60%29%5B0%5D%3B%0A%20%20%20%20%20%20%20%20%20%20%20%20%20%20%20%20popup_2979e073a6d14f0cb1b3c7d9620924ad.setContent%28html_533be8578fb84dae91eb2932642800da%29%3B%0A%20%20%20%20%20%20%20%20%20%20%20%20%0A%0A%20%20%20%20%20%20%20%20%20%20%20%20marker_d80e02978b764711a795a52f878a0c38.bindPopup%28popup_2979e073a6d14f0cb1b3c7d9620924ad%29%0A%20%20%20%20%20%20%20%20%20%20%20%20%3B%0A%0A%20%20%20%20%20%20%20%20%20%20%20%20%0A%20%20%20%20%20%20%20%20%0A%20%20%20%20%0A%20%20%20%20%20%20%20%20marker_d80e02978b764711a795a52f878a0c38.bindTooltip%28%0A%20%20%20%20%20%20%20%20%20%20%20%20%60%3Cdiv%3E%60%0A%20%20%20%20%20%20%20%20%20%20%20%20%2B%20%60Starting%20Point%60%20%2B%20%60%3C/div%3E%60%2C%0A%20%20%20%20%20%20%20%20%20%20%20%20%7B%22sticky%22%3A%20true%7D%0A%20%20%20%20%20%20%20%20%29%3B%0A%20%20%20%20%20%20%20%20%0A%20%20%20%20%0A%20%20%20%20%20%20%20%20var%20marker_fab8d238f2e744bfae821510e4777d50%20%3D%20L.marker%28%0A%20%20%20%20%20%20%20%20%20%20%20%20%5B-1.9295003560532906%2C%2030.15216259848099%5D%2C%0A%20%20%20%20%20%20%20%20%20%20%20%20%7B%0A%20%20%20%20%20%20%20%20%20%20%20%20%20%20%20%20icon%3A%20new%20L.Icon.Default%28%29%2C%0A%20%20%20%20%20%20%20%20%20%20%20%20%20%20%20%20%7D%0A%20%20%20%20%20%20%20%20%20%20%20%20%29.addTo%28map_aa012be059c14e05a82dde88ad49c974%29%3B%0A%20%20%20%20%20%20%20%20%0A%20%20%20%20%0A%0A%20%20%20%20%20%20%20%20%20%20%20%20%20%20%20%20var%20icon_1b02654e3184401d97f1e2b74631d15b%20%3D%20L.AwesomeMarkers.icon%28%7B%0A%20%20%20%20%20%20%20%20%20%20%20%20%20%20%20%20%20%20%20%20icon%3A%20%27fas%20fa-crosshairs%27%2C%0A%20%20%20%20%20%20%20%20%20%20%20%20%20%20%20%20%20%20%20%20iconColor%3A%20%27white%27%2C%0A%20%20%20%20%20%20%20%20%20%20%20%20%20%20%20%20%20%20%20%20markerColor%3A%20%27darkblue%27%2C%0A%20%20%20%20%20%20%20%20%20%20%20%20%20%20%20%20%20%20%20%20prefix%3A%20%27fa%27%2C%0A%20%20%20%20%20%20%20%20%20%20%20%20%20%20%20%20%20%20%20%20extraClasses%3A%20%27fa-rotate-0%27%0A%20%20%20%20%20%20%20%20%20%20%20%20%20%20%20%20%20%20%20%20%7D%29%3B%0A%20%20%20%20%20%20%20%20%20%20%20%20%20%20%20%20marker_fab8d238f2e744bfae821510e4777d50.setIcon%28icon_1b02654e3184401d97f1e2b74631d15b%29%3B%0A%20%20%20%20%20%20%20%20%20%20%20%20%0A%20%20%20%20%0A%20%20%20%20%20%20%20%20%20%20%20%20var%20popup_dbbdad3aaf644ed9ba26267668b82d47%20%3D%20L.popup%28%7BmaxWidth%3A%20%27100%25%27%0A%20%20%20%20%20%20%20%20%20%20%20%20%0A%20%20%20%20%20%20%20%20%20%20%20%20%7D%29%3B%0A%0A%20%20%20%20%20%20%20%20%20%20%20%20%0A%20%20%20%20%20%20%20%20%20%20%20%20%20%20%20%20var%20html_be56f03666594ca1b2aed1062061c161%20%3D%20%24%28%60%3Cdiv%20id%3D%22html_be56f03666594ca1b2aed1062061c161%22%20style%3D%22width%3A%20100.0%25%3B%20height%3A%20100.0%25%3B%22%3EDestination%3C/div%3E%60%29%5B0%5D%3B%0A%20%20%20%20%20%20%20%20%20%20%20%20%20%20%20%20popup_dbbdad3aaf644ed9ba26267668b82d47.setContent%28html_be56f03666594ca1b2aed1062061c161%29%3B%0A%20%20%20%20%20%20%20%20%20%20%20%20%0A%0A%20%20%20%20%20%20%20%20%20%20%20%20marker_fab8d238f2e744bfae821510e4777d50.bindPopup%28popup_dbbdad3aaf644ed9ba26267668b82d47%29%0A%20%20%20%20%20%20%20%20%20%20%20%20%3B%0A%0A%20%20%20%20%20%20%20%20%20%20%20%20%0A%20%20%20%20%20%20%20%20%0A%20%20%20%20%0A%20%20%20%20%20%20%20%20marker_fab8d238f2e744bfae821510e4777d50.bindTooltip%28%0A%20%20%20%20%20%20%20%20%20%20%20%20%60%3Cdiv%3E%60%0A%20%20%20%20%20%20%20%20%20%20%20%20%2B%20%60Destination%60%20%2B%20%60%3C/div%3E%60%2C%0A%20%20%20%20%20%20%20%20%20%20%20%20%7B%22sticky%22%3A%20true%7D%0A%20%20%20%20%20%20%20%20%29%3B%0A%20%20%20%20%20%20%20%20%0A%20%20%20%20%0A%20%20%20%20%20%20%20%20%20%20%20%20%20%20%20%20var%20poly_line_8e903f63fe524e90b7701e4ac36ad4b3%20%3D%20L.polyline%28%0A%20%20%20%20%20%20%20%20%20%20%20%20%20%20%20%20%20%20%20%20%5B%5B-1.9295003560532906%2C%2030.15216259848099%5D%2C%20%5B-1.9295003560532906%2C%2030.15216259848099%5D%5D%2C%0A%20%20%20%20%20%20%20%20%20%20%20%20%20%20%20%20%20%20%20%20%7B%0A%20%20%22bubblingMouseEvents%22%3A%20true%2C%0A%20%20%22color%22%3A%20%22purple%22%2C%0A%20%20%22dashArray%22%3A%20null%2C%0A%20%20%22dashOffset%22%3A%20null%2C%0A%20%20%22fill%22%3A%20false%2C%0A%20%20%22fillColor%22%3A%20%22purple%22%2C%0A%20%20%22fillOpacity%22%3A%200.2%2C%0A%20%20%22fillRule%22%3A%20%22evenodd%22%2C%0A%20%20%22lineCap%22%3A%20%22round%22%2C%0A%20%20%22lineJoin%22%3A%20%22round%22%2C%0A%20%20%22noClip%22%3A%20false%2C%0A%20%20%22opacity%22%3A%201%2C%0A%20%20%22smoothFactor%22%3A%200.3%2C%0A%20%20%22stroke%22%3A%20true%2C%0A%20%20%22weight%22%3A%202.5%0A%7D%0A%20%20%20%20%20%20%20%20%20%20%20%20%20%20%20%20%20%20%20%20%29%0A%20%20%20%20%20%20%20%20%20%20%20%20%20%20%20%20%20%20%20%20.addTo%28map_aa012be059c14e05a82dde88ad49c974%29%3B%0A%20%20%20%20%20%20%20%20%20%20%20%20%0A%20%20%20%20%0A%20%20%20%20%20%20%20%20poly_line_8e903f63fe524e90b7701e4ac36ad4b3.bindTooltip%28%0A%20%20%20%20%20%20%20%20%20%20%20%20%60%3Cdiv%3E%60%0A%20%20%20%20%20%20%20%20%20%20%20%20%2B%20%60Route%60%20%2B%20%60%3C/div%3E%60%2C%0A%20%20%20%20%20%20%20%20%20%20%20%20%7B%22sticky%22%3A%20true%7D%0A%20%20%20%20%20%20%20%20%29%3B%0A%20%20%20%20%20%20%20%20%0A%3C/script%3E onload=\"this.contentDocument.open();this.contentDocument.write(    decodeURIComponent(this.getAttribute('data-html')));this.contentDocument.close();\" allowfullscreen webkitallowfullscreen mozallowfullscreen></iframe></div></div>"
            ]
          },
          "metadata": {},
          "execution_count": 38
        }
      ]
    }
  ],
  "metadata": {
    "colab": {
      "collapsed_sections": [],
      "name": "Xplore_Kigali_.ipynb",
      "provenance": []
    },
    "kernelspec": {
      "display_name": "Python 3",
      "language": "python",
      "name": "python3"
    },
    "language_info": {
      "codemirror_mode": {
        "name": "ipython",
        "version": 3
      },
      "file_extension": ".py",
      "mimetype": "text/x-python",
      "name": "python",
      "nbconvert_exporter": "python",
      "pygments_lexer": "ipython3",
      "version": "3.8.8"
    }
  },
  "nbformat": 4,
  "nbformat_minor": 0
}